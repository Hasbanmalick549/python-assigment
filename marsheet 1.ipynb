{
 "cells": [
  {
   "cell_type": "code",
   "execution_count": 4,
   "metadata": {
    "scrolled": true
   },
   "outputs": [
    {
     "name": "stdout",
     "output_type": "stream",
     "text": [
      "Enter marks of first subject76\n",
      "Enter marks of second subject87\n",
      "Enter marks of third subject54\n",
      "Enter marks of forth subject49\n",
      "Enter marks of fifth subject81\n",
      "Grade B\n"
     ]
    }
   ],
   "source": [
    "#It is marksheet\n",
    "#just enter your number like 76,87,54,49,81\n",
    "#watch what will happen\n",
    "sub1 = int(input(\"Enter marks of first subject\"));\n",
    "sub2 = int(input(\"Enter marks of second subject\"));\n",
    "sub3 = int(input(\"Enter marks of third subject\"));\n",
    "sub4 = int(input(\"Enter marks of forth subject\"));\n",
    "sub5 = int(input(\"Enter marks of fifth subject\"));\n",
    "ave = (sub1+sub2+sub3+sub4+sub5)/5\n",
    "if ave >= 80 and ave < 100 :\n",
    "    print(\"Grade A+\")\n",
    "elif ave >= 70 and ave < 80 :\n",
    "    print(\"Grade A\")\n",
    "elif ave >= 60 and ave < 70 :\n",
    "    print(\"Grade B\")\n",
    "elif ave >= 50 and ave < 60 :\n",
    "    print(\"Grade c\")\n",
    "elif ave >= 33 and ave < 50 :\n",
    "    print(\"Grade D\")\n",
    "elif ave >= 0 and ave < 33 :\n",
    "    print(\"Fail\");\n"
   ]
  },
  {
   "cell_type": "markdown",
   "metadata": {},
   "source": []
  },
  {
   "cell_type": "code",
   "execution_count": null,
   "metadata": {},
   "outputs": [],
   "source": []
  }
 ],
 "metadata": {
  "kernelspec": {
   "display_name": "Python 3",
   "language": "python",
   "name": "python3"
  },
  "language_info": {
   "codemirror_mode": {
    "name": "ipython",
    "version": 3
   },
   "file_extension": ".py",
   "mimetype": "text/x-python",
   "name": "python",
   "nbconvert_exporter": "python",
   "pygments_lexer": "ipython3",
   "version": "3.7.4"
  }
 },
 "nbformat": 4,
 "nbformat_minor": 2
}
