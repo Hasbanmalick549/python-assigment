{
 "cells": [
  {
   "cell_type": "code",
   "execution_count": 7,
   "metadata": {},
   "outputs": [
    {
     "name": "stdout",
     "output_type": "stream",
     "text": [
      "what is your percentage %75\n",
      "Grade 'A'\n"
     ]
    }
   ],
   "source": [
    "per = int(input(\"what is your percentage %\"));\n",
    "if per >= 80 and per < 100:\n",
    "    print(\"Grade 'A+'\")\n",
    "elif per >= 70 and per < 80 :\n",
    "    print(\"Grade 'A'\")\n",
    "elif per >= 60 and per < 70 :\n",
    "    print(\"Grade 'B'\")\n",
    "elif per >= 50 and per < 60 :\n",
    "    print(\"Grade 'C'\")\n",
    "elif per >= 33 and per < 50:\n",
    "    print(\"Just Pass\")\n",
    "elif per >= 0 and per < 33 :\n",
    "    print(\"Fail \\n 'you have to work more'\")"
   ]
  },
  {
   "cell_type": "code",
   "execution_count": null,
   "metadata": {},
   "outputs": [],
   "source": []
  },
  {
   "cell_type": "code",
   "execution_count": null,
   "metadata": {},
   "outputs": [],
   "source": []
  }
 ],
 "metadata": {
  "kernelspec": {
   "display_name": "Python 3",
   "language": "python",
   "name": "python3"
  },
  "language_info": {
   "codemirror_mode": {
    "name": "ipython",
    "version": 3
   },
   "file_extension": ".py",
   "mimetype": "text/x-python",
   "name": "python",
   "nbconvert_exporter": "python",
   "pygments_lexer": "ipython3",
   "version": "3.7.4"
  }
 },
 "nbformat": 4,
 "nbformat_minor": 2
}
