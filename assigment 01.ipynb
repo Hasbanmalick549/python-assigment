{
 "cells": [
  {
   "cell_type": "code",
   "execution_count": 11,
   "metadata": {},
   "outputs": [
    {
     "name": "stdout",
     "output_type": "stream",
     "text": [
      "Twinkle, twinkle, little star,\n",
      " \t How i wonder what you are! \n",
      " \t \t up above the world so high,\n",
      " \t \t Like a diamond in the sky.Twinkle, twinkle, little star, \n",
      " \t How i wonder what you are!\n"
     ]
    }
   ],
   "source": [
    " str1 = \"Twinkle, twinkle, little star,\" +\"\\n \\t\"+ \" How i wonder what you are!\" \" \\n \\t \\t up above the world so high,\" \"\\n \\t \\t Like a diamond in the sky.\" \n",
    "str2 = \"Twinkle, twinkle, little star,\" \" \\n \\t How i wonder what you are!\"\n",
    "print(str1 + str2)"
   ]
  },
  {
   "cell_type": "code",
   "execution_count": 12,
   "metadata": {},
   "outputs": [
    {
     "name": "stdout",
     "output_type": "stream",
     "text": [
      " python 3.4.0\n"
     ]
    }
   ],
   "source": [
    "print(\" python 3.4.0\")"
   ]
  },
  {
   "cell_type": "code",
   "execution_count": 14,
   "metadata": {},
   "outputs": [
    {
     "name": "stdout",
     "output_type": "stream",
     "text": [
      "3/Novembar/2019 \n",
      " 12.39 pm\n"
     ]
    }
   ],
   "source": [
    "print(\"3/Novembar/2019 \" \"\\n 12.39 pm\")"
   ]
  },
  {
   "cell_type": "code",
   "execution_count": 28,
   "metadata": {},
   "outputs": [
    {
     "name": "stdout",
     "output_type": "stream",
     "text": [
      "Muzammil Ahmed Malik\n"
     ]
    }
   ],
   "source": [
    "a = \"Muzammil\"\n",
    "b = \"Ahmed Malik\"\n",
    "print ( a +\" \"+ b)"
   ]
  },
  {
   "cell_type": "code",
   "execution_count": 29,
   "metadata": {},
   "outputs": [
    {
     "name": "stdout",
     "output_type": "stream",
     "text": [
      "150\n"
     ]
    }
   ],
   "source": [
    "a = 100\n",
    "b = 50\n",
    "c = a + b \n",
    "print (c)"
   ]
  },
  {
   "cell_type": "code",
   "execution_count": null,
   "metadata": {},
   "outputs": [],
   "source": []
  }
 ],
 "metadata": {
  "kernelspec": {
   "display_name": "Python 3",
   "language": "python",
   "name": "python3"
  },
  "language_info": {
   "codemirror_mode": {
    "name": "ipython",
    "version": 3
   },
   "file_extension": ".py",
   "mimetype": "text/x-python",
   "name": "python",
   "nbconvert_exporter": "python",
   "pygments_lexer": "ipython3",
   "version": "3.7.4"
  }
 },
 "nbformat": 4,
 "nbformat_minor": 2
}
